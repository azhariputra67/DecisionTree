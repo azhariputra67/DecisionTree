{
  "nbformat": 4,
  "nbformat_minor": 0,
  "metadata": {
    "colab": {
      "name": "DecisionTree.ipynb",
      "provenance": [],
      "collapsed_sections": []
    },
    "kernelspec": {
      "name": "python3",
      "display_name": "Python 3"
    },
    "language_info": {
      "name": "python"
    }
  },
  "cells": [
    {
      "cell_type": "code",
      "metadata": {
        "colab": {
          "base_uri": "https://localhost:8080/"
        },
        "id": "fj0uJ2dRMlzZ",
        "outputId": "07dc843f-23d6-4852-c569-20ca2918ea6f"
      },
      "source": [
        "import numpy as np\n",
        "import pandas as pd\n",
        "from sklearn import tree\n",
        "\n",
        "irisDataset = pd.read_csv('Dataset Bunga Kamboja.csv',\n",
        "                          delimiter=',', header=0)\n",
        "\n",
        "irisDataset[\"Species\"] = pd.factorize(irisDataset.Species)[0]\n",
        "\n",
        "irisDataset = irisDataset.drop(labels=\"Id\", axis=1)\n",
        "\n",
        "irisDataset = irisDataset.to_numpy()\n",
        "\n",
        "dataTraining = np.concatenate((irisDataset[0:40,:],\n",
        "                               irisDataset[50:90,:]), axis=0)\n",
        "dataTesting = np.concatenate((irisDataset[40:50,:],\n",
        "                               irisDataset[90:100,:]), axis=0)\n",
        "\n",
        "inputTraining = dataTraining[:,0:4]\n",
        "inputTesting = dataTesting[:,0:4]\n",
        "labelTraining = dataTraining[:,4]\n",
        "labelTesting = dataTesting[:,4]\n",
        "\n",
        "model = tree.DecisionTreeClassifier()\n",
        "\n",
        "model = model.fit(inputTraining, labelTraining)\n",
        "\n",
        "hasilPrediksi = model.predict(inputTesting)\n",
        "print(\"label sebenarnya \",labelTesting)\n",
        "print(\"hasil prediksi \",hasilPrediksi)\n",
        "\n",
        "prediksiBenar = (hasilPrediksi == labelTesting).sum()\n",
        "prediksiSalah = (hasilPrediksi != labelTesting).sum()\n",
        "print(\"prediksi benar: \", prediksiBenar, \" data\")\n",
        "print(\"prediksi salah: \", prediksiSalah, \" data\")\n",
        "print(\"akurasi: \", prediksiBenar/(prediksiBenar+prediksiSalah) * 100, \"%\")"
      ],
      "execution_count": 2,
      "outputs": [
        {
          "output_type": "stream",
          "text": [
            "label sebenarnya  [0 0 0 0 0 0 0 0 0 0 1 1 1 1 1 1 1 1 1 1]\n",
            "hasil prediksi  [0 0 0 0 0 0 0 0 0 0 1 1 1 1 1 1 1 1 1 1]\n",
            "prediksi benar:  20  data\n",
            "prediksi salah:  0  data\n",
            "akurasi:  100.0 %\n"
          ],
          "name": "stdout"
        }
      ]
    }
  ]
}